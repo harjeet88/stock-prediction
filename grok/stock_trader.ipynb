{
  "nbformat": 4,
  "nbformat_minor": 0,
  "metadata": {
    "colab": {
      "provenance": [],
      "mount_file_id": "1MYceUJiyT5KxRJ5-4p3MfMv2k4e4p40I",
      "authorship_tag": "ABX9TyO+3fDyQpsTNQ37cljskjLP",
      "include_colab_link": true
    },
    "kernelspec": {
      "name": "python3",
      "display_name": "Python 3"
    },
    "language_info": {
      "name": "python"
    }
  },
  "cells": [
    {
      "cell_type": "markdown",
      "metadata": {
        "id": "view-in-github",
        "colab_type": "text"
      },
      "source": [
        "<a href=\"https://colab.research.google.com/github/harjeet88/stock-prediction/blob/main/grok/stock_trader.ipynb\" target=\"_parent\"><img src=\"https://colab.research.google.com/assets/colab-badge.svg\" alt=\"Open In Colab\"/></a>"
      ]
    },
    {
      "cell_type": "code",
      "execution_count": 10,
      "metadata": {
        "id": "_2fWo13HymA8"
      },
      "outputs": [],
      "source": []
    },
    {
      "cell_type": "code",
      "source": [
        "!ls -la /content/drive/MyDrive/github_projects/agents/"
      ],
      "metadata": {
        "colab": {
          "base_uri": "https://localhost:8080/"
        },
        "id": "ytoXlalm1Wa0",
        "outputId": "0338187e-f80b-41b5-de3a-d1c39d87270e"
      },
      "execution_count": 16,
      "outputs": [
        {
          "output_type": "stream",
          "name": "stdout",
          "text": [
            "total 555\n",
            "drwx------ 4 root root   4096 Jun 24 13:16 1_foundations\n",
            "drwx------ 4 root root   4096 Jun 24 13:16 2_openai\n",
            "drwx------ 8 root root   4096 Jun 24 13:22 3_crew\n",
            "drwx------ 4 root root   4096 Jun 24 13:22 4_langgraph\n",
            "drwx------ 4 root root   4096 Jun 24 13:22 5_autogen\n",
            "drwx------ 5 root root   4096 Jun 24 13:22 6_mcp\n",
            "drwx------ 2 root root   4096 Jun 24 13:22 assets\n",
            "drwx------ 8 root root   4096 Jun 24 13:16 .git\n",
            "-rw------- 1 root root   3608 Jun 24 13:16 .gitignore\n",
            "drwx------ 2 root root   4096 Jun 24 13:22 guides\n",
            "-rw------- 1 root root   1066 Jun 24 13:22 LICENSE\n",
            "-rw------- 1 root root   1115 Jun 24 13:22 pyproject.toml\n",
            "-rw------- 1 root root      5 Jun 24 13:16 .python-version\n",
            "-rw------- 1 root root   3677 Jun 24 13:22 README.md\n",
            "-rw------- 1 root root  13675 Jun 24 13:22 requirements.txt\n",
            "drwx------ 2 root root   4096 Jun 24 13:22 setup\n",
            "-rw------- 1 root root 496681 Jun 24 13:22 uv.lock\n",
            "drwx------ 7 root root   4096 Jun 24 13:29 .venv\n"
          ]
        }
      ]
    },
    {
      "cell_type": "code",
      "source": [
        "rm -r /content/drive/MyDrive/github_projects/agents"
      ],
      "metadata": {
        "id": "qxyHlfgzDQbm"
      },
      "execution_count": 13,
      "outputs": []
    },
    {
      "cell_type": "code",
      "source": [],
      "metadata": {
        "id": "JPFq4cDcEpma"
      },
      "execution_count": null,
      "outputs": []
    }
  ]
}