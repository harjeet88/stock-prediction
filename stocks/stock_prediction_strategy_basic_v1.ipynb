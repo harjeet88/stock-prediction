{
  "nbformat": 4,
  "nbformat_minor": 0,
  "metadata": {
    "colab": {
      "provenance": [],
      "include_colab_link": true
    },
    "kernelspec": {
      "name": "python3",
      "display_name": "Python 3"
    },
    "language_info": {
      "name": "python"
    }
  },
  "cells": [
    {
      "cell_type": "markdown",
      "metadata": {
        "id": "view-in-github",
        "colab_type": "text"
      },
      "source": [
        "<a href=\"https://colab.research.google.com/github/harjeet88/stock-prediction/blob/main/stocks/stock_prediction_strategy_basic_v1.ipynb\" target=\"_parent\"><img src=\"https://colab.research.google.com/assets/colab-badge.svg\" alt=\"Open In Colab\"/></a>"
      ]
    },
    {
      "cell_type": "code",
      "source": [
        "!pip install yfinance --upgrade"
      ],
      "metadata": {
        "colab": {
          "base_uri": "https://localhost:8080/"
        },
        "id": "PVL65HYWCkV0",
        "outputId": "7733ae16-3d77-4a49-d0bd-c6372de077b3"
      },
      "execution_count": 15,
      "outputs": [
        {
          "output_type": "stream",
          "name": "stdout",
          "text": [
            "Requirement already satisfied: yfinance in /usr/local/lib/python3.11/dist-packages (0.2.63)\n",
            "Requirement already satisfied: pandas>=1.3.0 in /usr/local/lib/python3.11/dist-packages (from yfinance) (2.2.2)\n",
            "Requirement already satisfied: numpy>=1.16.5 in /usr/local/lib/python3.11/dist-packages (from yfinance) (2.0.2)\n",
            "Requirement already satisfied: requests>=2.31 in /usr/local/lib/python3.11/dist-packages (from yfinance) (2.32.3)\n",
            "Requirement already satisfied: multitasking>=0.0.7 in /usr/local/lib/python3.11/dist-packages (from yfinance) (0.0.11)\n",
            "Requirement already satisfied: platformdirs>=2.0.0 in /usr/local/lib/python3.11/dist-packages (from yfinance) (4.3.8)\n",
            "Requirement already satisfied: pytz>=2022.5 in /usr/local/lib/python3.11/dist-packages (from yfinance) (2025.2)\n",
            "Requirement already satisfied: frozendict>=2.3.4 in /usr/local/lib/python3.11/dist-packages (from yfinance) (2.4.6)\n",
            "Requirement already satisfied: peewee>=3.16.2 in /usr/local/lib/python3.11/dist-packages (from yfinance) (3.18.1)\n",
            "Requirement already satisfied: beautifulsoup4>=4.11.1 in /usr/local/lib/python3.11/dist-packages (from yfinance) (4.13.4)\n",
            "Requirement already satisfied: curl_cffi>=0.7 in /usr/local/lib/python3.11/dist-packages (from yfinance) (0.11.3)\n",
            "Requirement already satisfied: protobuf>=3.19.0 in /usr/local/lib/python3.11/dist-packages (from yfinance) (5.29.5)\n",
            "Requirement already satisfied: websockets>=13.0 in /usr/local/lib/python3.11/dist-packages (from yfinance) (15.0.1)\n",
            "Requirement already satisfied: soupsieve>1.2 in /usr/local/lib/python3.11/dist-packages (from beautifulsoup4>=4.11.1->yfinance) (2.7)\n",
            "Requirement already satisfied: typing-extensions>=4.0.0 in /usr/local/lib/python3.11/dist-packages (from beautifulsoup4>=4.11.1->yfinance) (4.14.0)\n",
            "Requirement already satisfied: cffi>=1.12.0 in /usr/local/lib/python3.11/dist-packages (from curl_cffi>=0.7->yfinance) (1.17.1)\n",
            "Requirement already satisfied: certifi>=2024.2.2 in /usr/local/lib/python3.11/dist-packages (from curl_cffi>=0.7->yfinance) (2025.6.15)\n",
            "Requirement already satisfied: python-dateutil>=2.8.2 in /usr/local/lib/python3.11/dist-packages (from pandas>=1.3.0->yfinance) (2.9.0.post0)\n",
            "Requirement already satisfied: tzdata>=2022.7 in /usr/local/lib/python3.11/dist-packages (from pandas>=1.3.0->yfinance) (2025.2)\n",
            "Requirement already satisfied: charset-normalizer<4,>=2 in /usr/local/lib/python3.11/dist-packages (from requests>=2.31->yfinance) (3.4.2)\n",
            "Requirement already satisfied: idna<4,>=2.5 in /usr/local/lib/python3.11/dist-packages (from requests>=2.31->yfinance) (3.10)\n",
            "Requirement already satisfied: urllib3<3,>=1.21.1 in /usr/local/lib/python3.11/dist-packages (from requests>=2.31->yfinance) (2.4.0)\n",
            "Requirement already satisfied: pycparser in /usr/local/lib/python3.11/dist-packages (from cffi>=1.12.0->curl_cffi>=0.7->yfinance) (2.22)\n",
            "Requirement already satisfied: six>=1.5 in /usr/local/lib/python3.11/dist-packages (from python-dateutil>=2.8.2->pandas>=1.3.0->yfinance) (1.17.0)\n"
          ]
        }
      ]
    },
    {
      "cell_type": "code",
      "source": [
        "!pip install nsepy"
      ],
      "metadata": {
        "id": "ZCgNVkKUsWyO",
        "outputId": "d84f9e07-6d17-48a0-fdb5-6eff504c42da",
        "colab": {
          "base_uri": "https://localhost:8080/"
        }
      },
      "execution_count": 97,
      "outputs": [
        {
          "output_type": "stream",
          "name": "stdout",
          "text": [
            "Collecting nsepy\n",
            "  Downloading nsepy-0.8.tar.gz (33 kB)\n",
            "  Preparing metadata (setup.py) ... \u001b[?25l\u001b[?25hdone\n",
            "Requirement already satisfied: beautifulsoup4 in /usr/local/lib/python3.11/dist-packages (from nsepy) (4.13.4)\n",
            "Requirement already satisfied: requests in /usr/local/lib/python3.11/dist-packages (from nsepy) (2.32.3)\n",
            "Requirement already satisfied: numpy in /usr/local/lib/python3.11/dist-packages (from nsepy) (2.0.2)\n",
            "Requirement already satisfied: pandas in /usr/local/lib/python3.11/dist-packages (from nsepy) (2.2.2)\n",
            "Requirement already satisfied: six in /usr/local/lib/python3.11/dist-packages (from nsepy) (1.17.0)\n",
            "Requirement already satisfied: click in /usr/local/lib/python3.11/dist-packages (from nsepy) (8.2.1)\n",
            "Requirement already satisfied: lxml in /usr/local/lib/python3.11/dist-packages (from nsepy) (5.4.0)\n",
            "Requirement already satisfied: soupsieve>1.2 in /usr/local/lib/python3.11/dist-packages (from beautifulsoup4->nsepy) (2.7)\n",
            "Requirement already satisfied: typing-extensions>=4.0.0 in /usr/local/lib/python3.11/dist-packages (from beautifulsoup4->nsepy) (4.14.0)\n",
            "Requirement already satisfied: python-dateutil>=2.8.2 in /usr/local/lib/python3.11/dist-packages (from pandas->nsepy) (2.9.0.post0)\n",
            "Requirement already satisfied: pytz>=2020.1 in /usr/local/lib/python3.11/dist-packages (from pandas->nsepy) (2025.2)\n",
            "Requirement already satisfied: tzdata>=2022.7 in /usr/local/lib/python3.11/dist-packages (from pandas->nsepy) (2025.2)\n",
            "Requirement already satisfied: charset-normalizer<4,>=2 in /usr/local/lib/python3.11/dist-packages (from requests->nsepy) (3.4.2)\n",
            "Requirement already satisfied: idna<4,>=2.5 in /usr/local/lib/python3.11/dist-packages (from requests->nsepy) (3.10)\n",
            "Requirement already satisfied: urllib3<3,>=1.21.1 in /usr/local/lib/python3.11/dist-packages (from requests->nsepy) (2.4.0)\n",
            "Requirement already satisfied: certifi>=2017.4.17 in /usr/local/lib/python3.11/dist-packages (from requests->nsepy) (2025.6.15)\n",
            "Building wheels for collected packages: nsepy\n",
            "  Building wheel for nsepy (setup.py) ... \u001b[?25l\u001b[?25hdone\n",
            "  Created wheel for nsepy: filename=nsepy-0.8-py3-none-any.whl size=36057 sha256=48cd8cb70ceadaaa0674eb2dd839415adb81cbbe0c4fd95d196c810409e840ce\n",
            "  Stored in directory: /root/.cache/pip/wheels/94/a7/d4/0e4e94292f5761407472684b2cd74771e9985af72f968101e0\n",
            "Successfully built nsepy\n",
            "Installing collected packages: nsepy\n",
            "Successfully installed nsepy-0.8\n"
          ]
        }
      ]
    },
    {
      "cell_type": "code",
      "source": [
        "import numpy as np\n",
        "import pandas as pd\n",
        "from datetime import datetime\n",
        "import yfinance as yf\n",
        "import matplotlib.pyplot as plt"
      ],
      "metadata": {
        "id": "ucUkeuInBEh5"
      },
      "execution_count": 1,
      "outputs": []
    },
    {
      "cell_type": "code",
      "source": [
        "# Portfolio parameters\n",
        "initial_capital = 1000000  # ₹10,00,000 initial investment\n",
        "target_annual_return = 0.25  # 25% annualized return\n",
        "equity_allocation = 0.80  # 80% in equities\n",
        "hedge_allocation = 0.10  # 10% in gold ETFs\n",
        "cash_allocation = 0.10  # 10% in liquid funds\n",
        "max_position_size = 0.05  # 5% per stock\n",
        "stop_loss_pct = 0.25  # Increased to 25% to avoid premature exits\n",
        "volatility_threshold = 0.40  # 40% max volatility\n",
        "rebalance_freq = 'Q'  # Quarterly rebalancing\n",
        "transaction_cost = 0.001  # 0.1% per trade"
      ],
      "metadata": {
        "id": "U-xTSK0Nq9EH"
      },
      "execution_count": 83,
      "outputs": []
    },
    {
      "cell_type": "code",
      "source": [
        "# High-conviction stock watchlist (NSE tickers)\n",
        "stocks = [\n",
        "    'RELIANCE.NS',  # Large-cap: Diversified, PLI beneficiary\n",
        "    'TATAMOTORS.NS',  # Mid-cap: Auto, EV focus\n",
        "    'DIXON.NS',  # Mid-cap: Electronics manufacturing (PLI)\n",
        "    'POLYCAB.NS',  # Mid-cap: Electricals, renewable energy\n",
        "    'CDSL.NS',  # Small-cap: Fintech, capital market\n",
        "    'NAVINFLUOR.NS',  # Small-cap: Specialty chemicals\n",
        "    'KPITTECH.NS',  # Small-cap: Auto-tech, EV software\n",
        "#    'L&TFH.NS',  # Mid-cap: Affordable housing finance\n",
        "    'GREENPOWER.NS',  # Small-cap: Renewable energy\n",
        "    'BIRLACORPN.NS'  # Mid-cap: Cement, affordable housing\n",
        "]"
      ],
      "metadata": {
        "id": "rBQOrwNprE0g"
      },
      "execution_count": 92,
      "outputs": []
    },
    {
      "cell_type": "code",
      "source": [
        "\n",
        "\n",
        "# Sector allocation weights (70% mid/small-cap, 30% large-cap)\n",
        "sector_weights = {\n",
        "    'Renewables': 0.30,  # e.g., GREENPOWER.NS, POLYCAB.NS\n",
        "    'Specialty Chemicals': 0.25,  # e.g., NAVINFLUOR.NS\n",
        "    'Fintech': 0.20,  # e.g., CDSL.NS, KPITTECH.NS\n",
        "    'Manufacturing (PLI)': 0.15,  # e.g., DIXON.NS, RELIANCE.NS\n",
        "    'Affordable Housing': 0.10  # e.g., L&TFH.NS, BIRLACORPN.NS\n",
        "}\n"
      ],
      "metadata": {
        "id": "8gy3eh_XrG2N"
      },
      "execution_count": 85,
      "outputs": []
    },
    {
      "cell_type": "code",
      "source": [
        "\n",
        "# Backtesting period (2018-2023)\n",
        "start_date = '2018-01-01'\n",
        "end_date = '2023-12-31'\n"
      ],
      "metadata": {
        "id": "PmeNw40lrIzN"
      },
      "execution_count": 86,
      "outputs": []
    },
    {
      "cell_type": "code",
      "source": [
        "from nsepy import get_history\n",
        "def fetch_data(tickers, start, end):\n",
        "    data = {}\n",
        "    failed_tickers = []\n",
        "    start_date = datetime.strptime(start, '%Y-%m-%d')\n",
        "    end_date = datetime.strptime(end, '%Y-%m-%d')\n",
        "    date_range = pd.date_range(start=start, end=end, freq='B')\n",
        "    for ticker in tickers:\n",
        "        try:\n",
        "            df = get_history(symbol=ticker.replace('.NS', ''), start=start_date, end=end_date)\n",
        "            if not df.empty and 'Close' in df.columns and len(df) >= 100:\n",
        "                series = df['Close'].reindex(date_range, method='ffill').dropna()\n",
        "                if len(series) >= 100:\n",
        "                    data[ticker] = series\n",
        "                    print(f\"Successfully fetched and aligned data for {ticker}: {len(series)} rows\")\n",
        "                else:\n",
        "                    failed_tickers.append(ticker)\n",
        "                    print(f\"No valid data for {ticker}: Insufficient data points after alignment\")\n",
        "            else:\n",
        "                failed_tickers.append(ticker)\n",
        "                print(f\"No valid data for {ticker}: Insufficient data points\")\n",
        "        except Exception as e:\n",
        "            failed_tickers.append(ticker)\n",
        "            print(f\"Error fetching data for {ticker}: {e}\")\n",
        "    if not data:\n",
        "        print(\"No data fetched for any tickers. Exiting.\")\n",
        "        return pd.DataFrame()\n",
        "    if failed_tickers:\n",
        "        print(f\"Failed to fetch data for: {failed_tickers}\")\n",
        "    try:\n",
        "        df = pd.DataFrame(data, index=date_range)\n",
        "        df = df.dropna(how='all')\n",
        "        if not df.empty:\n",
        "            print(f\"DataFrame shape: {df.shape}\")\n",
        "            return df\n",
        "        print(\"DataFrame is empty after construction.\")\n",
        "        return pd.DataFrame()\n",
        "    except ValueError as e:\n",
        "        print(f\"Error creating DataFrame: {e}\")\n",
        "        return pd.DataFrame()"
      ],
      "metadata": {
        "id": "Ro3MF67KrLve"
      },
      "execution_count": 98,
      "outputs": []
    },
    {
      "cell_type": "code",
      "source": [
        "# Fetch historical data using yfinance\n",
        "def fetch_data1(tickers, start, end):\n",
        "    data = {}\n",
        "    failed_tickers = []\n",
        "    all_dates = pd.date_range(start=start, end=end, freq='D') # Create a full date range\n",
        "    for ticker in tickers:\n",
        "        try:\n",
        "            df = yf.download(ticker, start=start, end=end, progress=False, auto_adjust=False)\n",
        "            if not df.empty and 'Adj Close' in df.columns and len(df) >= 100:\n",
        "                # Reindex to the full date range and forward fill missing values\n",
        "                data[ticker] = df['Adj Close'].dropna().reindex(all_dates).fillna(method='ffill')\n",
        "                print(f\"Successfully fetched data for {ticker}: {len(df)} rows\")\n",
        "            else:\n",
        "                failed_tickers.append(ticker)\n",
        "                print(f\"No valid data for {ticker}: Insufficient data points or missing 'Adj Close'\")\n",
        "        except Exception as e:\n",
        "            failed_tickers.append(ticker)\n",
        "            print(f\"Error fetching data for {ticker}: {e}\")\n",
        "\n",
        "    if not data:\n",
        "        print(\"No data fetched for any tickers. Exiting.\")\n",
        "        return pd.DataFrame()\n",
        "\n",
        "    if failed_tickers:\n",
        "        print(f\"Failed to fetch data for: {failed_tickers}\")\n",
        "\n",
        "    try:\n",
        "        # Create DataFrame from aligned data\n",
        "        df = pd.DataFrame(data)\n",
        "        if df.empty or len(df) < 2:\n",
        "            print(\"DataFrame is empty or has insufficient rows after construction.\")\n",
        "            return pd.DataFrame()\n",
        "        print(f\"DataFrame shape: {df.shape}\")\n",
        "        return df\n",
        "    except ValueError as e:\n",
        "        print(f\"Error creating DataFrame: {e}\")\n",
        "        return pd.DataFrame()"
      ],
      "metadata": {
        "id": "a69Q-r72ruYq"
      },
      "execution_count": 95,
      "outputs": []
    },
    {
      "cell_type": "code",
      "source": [
        "\n",
        "# Calculate returns and volatility\n",
        "def calculate_metrics(df):\n",
        "    if df.empty or len(df) < 2:\n",
        "        print(\"Insufficient data for metrics calculation.\")\n",
        "        return pd.Series(dtype=float), pd.Series(dtype=float), pd.Series(dtype=float)\n",
        "    returns = df.pct_change().dropna()\n",
        "    if returns.empty:\n",
        "        print(\"No valid returns calculated.\")\n",
        "        return pd.Series(dtype=float), pd.Series(dtype=float), pd.Series(dtype=float)\n",
        "    annual_returns = returns.mean() * 252\n",
        "    annual_vol = returns.std() * np.sqrt(252)\n",
        "    sharpe_ratio = annual_returns / annual_vol\n",
        "    return annual_returns, annual_vol, sharpe_ratio"
      ],
      "metadata": {
        "id": "oAYHHn6krOcn"
      },
      "execution_count": 88,
      "outputs": []
    },
    {
      "cell_type": "code",
      "source": [
        "\n",
        "\n",
        "\n",
        "# Simulate portfolio with rebalancing and stop-loss\n",
        "def simulate_portfolio(df, weights, initial_capital):\n",
        "    if df.empty or len(df) < 2:\n",
        "        print(\"Insufficient data for simulation.\")\n",
        "        return 0, 0, 0, pd.Series(dtype=float)\n",
        "\n",
        "    portfolio_value = initial_capital\n",
        "    positions = {stock: initial_capital * weights.get(stock, max_position_size) / df[stock].iloc[0] for stock in df.columns}\n",
        "    portfolio_values = [initial_capital]\n",
        "    stop_loss_triggered = {stock: False for stock in df.columns}\n",
        "    peak_prices = {stock: df[stock].iloc[0] for stock in df.columns}\n",
        "    valid_dates = df.index\n",
        "\n",
        "    if len(valid_dates) < 2:\n",
        "        print(\"No valid dates for simulation.\")\n",
        "        return 0, 0, 0, pd.Series(dtype=float)\n",
        "\n",
        "    for i, date in enumerate(valid_dates[1:], 1):\n",
        "        daily_value = 0\n",
        "        for stock in df.columns:\n",
        "            if not stop_loss_triggered[stock]:\n",
        "                price = df[stock].loc[date]\n",
        "                if np.isnan(price):\n",
        "                    print(f\"NaN price detected for {stock} on {date}. Skipping.\")\n",
        "                    continue\n",
        "                peak_prices[stock] = max(peak_prices[stock], price)\n",
        "                if peak_prices[stock] > 0 and (peak_prices[stock] - price) / peak_prices[stock] >= stop_loss_pct:\n",
        "                    stop_loss_triggered[stock] = True\n",
        "                    positions[stock] = 0\n",
        "                    portfolio_value *= (1 - transaction_cost)\n",
        "                    print(f\"Stop-loss triggered for {stock} on {date}\")\n",
        "                daily_value += positions[stock] * price\n",
        "        if daily_value <= 0:\n",
        "            print(f\"Portfolio value reached zero or negative on {date}. Stopping simulation.\")\n",
        "            return 0, 0, 0, pd.Series(dtype=float)\n",
        "        portfolio_values.append(daily_value)\n",
        "        portfolio_value = daily_value\n",
        "\n",
        "        # Quarterly rebalancing\n",
        "        if i > 0 and date.quarter != valid_dates[i-1].quarter:\n",
        "            total_value = sum(positions[stock] * df[stock].loc[date] for stock in df.columns if not stop_loss_triggered[stock])\n",
        "            if total_value > 0:\n",
        "                positions = {stock: (total_value * weights.get(stock, max_position_size) / df[stock].loc[date]) for stock in df.columns}\n",
        "                stop_loss_triggered = {stock: False for stock in df.columns}\n",
        "                portfolio_value *= (1 - transaction_cost)\n",
        "                peak_prices = {stock: df[stock].loc[date] for stock in df.columns}\n",
        "                print(f\"Rebalanced portfolio on {date}\")\n",
        "\n",
        "    try:\n",
        "        portfolio_df = pd.Series(portfolio_values, index=valid_dates, dtype=float)\n",
        "    except ValueError as e:\n",
        "        print(f\"Error creating portfolio Series: {e}\")\n",
        "        return 0, 0, 0, pd.Series(dtype=float)\n",
        "\n",
        "    if portfolio_df.empty or portfolio_df.iloc[-1] <= 0:\n",
        "        print(\"Portfolio DataFrame is empty or portfolio value reached zero.\")\n",
        "        return 0, 0, 0, pd.Series(dtype=float)\n",
        "\n",
        "    returns = portfolio_df.pct_change().dropna()\n",
        "    cagr = ((portfolio_df.iloc[-1] / initial_capital) ** (1 / 5)) - 1 if not portfolio_df.empty else 0\n",
        "    sharpe = returns.mean() * 252 / (returns.std() * np.sqrt(252)) if not returns.empty and returns.std() != 0 else 0\n",
        "    max_drawdown = (portfolio_df / portfolio_df.cummax() - 1).min() if not portfolio_df.empty else 0\n",
        "    return cagr, sharpe, max_drawdown, portfolio_df\n",
        "\n"
      ],
      "metadata": {
        "id": "uYLTvkRqq9kO"
      },
      "execution_count": 89,
      "outputs": []
    },
    {
      "cell_type": "code",
      "source": [
        "# Main execution\n",
        "def run():\n",
        "    # Fetch data\n",
        "    df = fetch_data(stocks, start_date, end_date)\n",
        "    if df.empty or len(df) < 2:\n",
        "        print(\"No valid data to proceed with simulation.\")\n",
        "        return\n",
        "\n",
        "    # Assign weights (70% mid/small-cap, 30% large-cap)\n",
        "    weights = {}\n",
        "    large_caps = ['RELIANCE.NS']\n",
        "    mid_small_caps = [s for s in df.columns if s not in large_caps]\n",
        "    valid_large_caps = [s for s in large_caps if s in df.columns]\n",
        "    if valid_large_caps:\n",
        "        for stock in valid_large_caps:\n",
        "            weights[stock] = 0.30 / len(valid_large_caps)\n",
        "    for stock in mid_small_caps:\n",
        "        sector = next((k for k, v in sector_weights.items() if stock in [s for s in stocks if k in s]), 'Other')\n",
        "        weights[stock] = 0.70 * sector_weights.get(sector, 0.2) / len(mid_small_caps) if mid_small_caps else 0\n",
        "\n",
        "    # Simulate portfolio\n",
        "    cagr, sharpe, max_drawdown, portfolio_df = simulate_portfolio(df, weights, initial_capital)\n",
        "\n",
        "    # Print results\n",
        "    print(f\"CAGR: {cagr:.2%}\")\n",
        "    print(f\"Sharpe Ratio: {sharpe:.2f}\")\n",
        "    print(f\"Max Drawdown: {max_drawdown:.2%}\")\n",
        "\n",
        "    # Plot portfolio value\n",
        "    if not portfolio_df.empty:\n",
        "        plt.figure(figsize=(10, 6))\n",
        "        portfolio_df.plot(title='Portfolio Value (2018-2023)')\n",
        "        plt.xlabel('Date')\n",
        "        plt.ylabel('Portfolio Value (₹)')\n",
        "        plt.grid(True)\n",
        "        plt.show()\n",
        "    else:\n",
        "        print(\"No portfolio data to plot.\")"
      ],
      "metadata": {
        "id": "V9pCvvHorR3x"
      },
      "execution_count": 90,
      "outputs": []
    },
    {
      "cell_type": "code",
      "source": [
        "run()"
      ],
      "metadata": {
        "id": "5HjEVXlbrUqX",
        "outputId": "a226f079-34f7-4fd2-b805-055c6a4224dc",
        "colab": {
          "base_uri": "https://localhost:8080/"
        }
      },
      "execution_count": 99,
      "outputs": [
        {
          "output_type": "stream",
          "name": "stderr",
          "text": [
            "WARNING:urllib3.connectionpool:Connection pool is full, discarding connection: www1.nseindia.com. Connection pool size: 10\n",
            "WARNING:urllib3.connectionpool:Connection pool is full, discarding connection: www1.nseindia.com. Connection pool size: 10\n",
            "WARNING:urllib3.connectionpool:Connection pool is full, discarding connection: www1.nseindia.com. Connection pool size: 10\n",
            "WARNING:urllib3.connectionpool:Connection pool is full, discarding connection: www1.nseindia.com. Connection pool size: 10\n",
            "WARNING:urllib3.connectionpool:Connection pool is full, discarding connection: www1.nseindia.com. Connection pool size: 10\n",
            "WARNING:urllib3.connectionpool:Connection pool is full, discarding connection: www1.nseindia.com. Connection pool size: 10\n",
            "WARNING:urllib3.connectionpool:Connection pool is full, discarding connection: www1.nseindia.com. Connection pool size: 10\n",
            "WARNING:urllib3.connectionpool:Connection pool is full, discarding connection: www1.nseindia.com. Connection pool size: 10\n",
            "WARNING:urllib3.connectionpool:Connection pool is full, discarding connection: www1.nseindia.com. Connection pool size: 10\n",
            "WARNING:urllib3.connectionpool:Connection pool is full, discarding connection: www1.nseindia.com. Connection pool size: 10\n",
            "WARNING:urllib3.connectionpool:Connection pool is full, discarding connection: www1.nseindia.com. Connection pool size: 10\n",
            "WARNING:urllib3.connectionpool:Connection pool is full, discarding connection: www1.nseindia.com. Connection pool size: 10\n",
            "WARNING:urllib3.connectionpool:Connection pool is full, discarding connection: www1.nseindia.com. Connection pool size: 10\n",
            "WARNING:urllib3.connectionpool:Connection pool is full, discarding connection: www.nseindia.com. Connection pool size: 10\n",
            "WARNING:urllib3.connectionpool:Connection pool is full, discarding connection: www.nseindia.com. Connection pool size: 10\n"
          ]
        },
        {
          "output_type": "stream",
          "name": "stdout",
          "text": [
            "No valid data for RELIANCE.NS: Insufficient data points\n"
          ]
        },
        {
          "output_type": "stream",
          "name": "stderr",
          "text": [
            "WARNING:urllib3.connectionpool:Connection pool is full, discarding connection: www1.nseindia.com. Connection pool size: 10\n",
            "WARNING:urllib3.connectionpool:Connection pool is full, discarding connection: www1.nseindia.com. Connection pool size: 10\n",
            "WARNING:urllib3.connectionpool:Connection pool is full, discarding connection: www1.nseindia.com. Connection pool size: 10\n",
            "WARNING:urllib3.connectionpool:Connection pool is full, discarding connection: www1.nseindia.com. Connection pool size: 10\n",
            "WARNING:urllib3.connectionpool:Connection pool is full, discarding connection: www1.nseindia.com. Connection pool size: 10\n",
            "WARNING:urllib3.connectionpool:Connection pool is full, discarding connection: www1.nseindia.com. Connection pool size: 10\n",
            "WARNING:urllib3.connectionpool:Connection pool is full, discarding connection: www1.nseindia.com. Connection pool size: 10\n",
            "WARNING:urllib3.connectionpool:Connection pool is full, discarding connection: www1.nseindia.com. Connection pool size: 10\n"
          ]
        },
        {
          "output_type": "stream",
          "name": "stdout",
          "text": [
            "No valid data for TATAMOTORS.NS: Insufficient data points\n"
          ]
        },
        {
          "output_type": "stream",
          "name": "stderr",
          "text": [
            "WARNING:urllib3.connectionpool:Connection pool is full, discarding connection: www.nseindia.com. Connection pool size: 10\n",
            "WARNING:urllib3.connectionpool:Connection pool is full, discarding connection: www1.nseindia.com. Connection pool size: 10\n",
            "WARNING:urllib3.connectionpool:Connection pool is full, discarding connection: www.nseindia.com. Connection pool size: 10\n",
            "WARNING:urllib3.connectionpool:Connection pool is full, discarding connection: www1.nseindia.com. Connection pool size: 10\n",
            "WARNING:urllib3.connectionpool:Connection pool is full, discarding connection: www1.nseindia.com. Connection pool size: 10\n",
            "WARNING:urllib3.connectionpool:Connection pool is full, discarding connection: www1.nseindia.com. Connection pool size: 10\n",
            "WARNING:urllib3.connectionpool:Connection pool is full, discarding connection: www1.nseindia.com. Connection pool size: 10\n"
          ]
        },
        {
          "output_type": "stream",
          "name": "stdout",
          "text": [
            "No valid data for DIXON.NS: Insufficient data points\n"
          ]
        },
        {
          "output_type": "stream",
          "name": "stderr",
          "text": [
            "WARNING:urllib3.connectionpool:Connection pool is full, discarding connection: www1.nseindia.com. Connection pool size: 10\n",
            "WARNING:urllib3.connectionpool:Connection pool is full, discarding connection: www1.nseindia.com. Connection pool size: 10\n",
            "WARNING:urllib3.connectionpool:Connection pool is full, discarding connection: www1.nseindia.com. Connection pool size: 10\n",
            "WARNING:urllib3.connectionpool:Connection pool is full, discarding connection: www.nseindia.com. Connection pool size: 10\n",
            "WARNING:urllib3.connectionpool:Connection pool is full, discarding connection: www.nseindia.com. Connection pool size: 10\n",
            "WARNING:urllib3.connectionpool:Connection pool is full, discarding connection: www.nseindia.com. Connection pool size: 10\n",
            "WARNING:urllib3.connectionpool:Connection pool is full, discarding connection: www1.nseindia.com. Connection pool size: 10\n",
            "WARNING:urllib3.connectionpool:Connection pool is full, discarding connection: www1.nseindia.com. Connection pool size: 10\n",
            "WARNING:urllib3.connectionpool:Connection pool is full, discarding connection: www1.nseindia.com. Connection pool size: 10\n",
            "WARNING:urllib3.connectionpool:Connection pool is full, discarding connection: www1.nseindia.com. Connection pool size: 10\n"
          ]
        },
        {
          "output_type": "stream",
          "name": "stdout",
          "text": [
            "No valid data for POLYCAB.NS: Insufficient data points\n"
          ]
        },
        {
          "output_type": "stream",
          "name": "stderr",
          "text": [
            "WARNING:urllib3.connectionpool:Connection pool is full, discarding connection: www1.nseindia.com. Connection pool size: 10\n",
            "WARNING:urllib3.connectionpool:Connection pool is full, discarding connection: www1.nseindia.com. Connection pool size: 10\n",
            "WARNING:urllib3.connectionpool:Connection pool is full, discarding connection: www1.nseindia.com. Connection pool size: 10\n"
          ]
        },
        {
          "output_type": "stream",
          "name": "stdout",
          "text": [
            "No valid data for CDSL.NS: Insufficient data points\n",
            "No valid data for NAVINFLUOR.NS: Insufficient data points\n"
          ]
        },
        {
          "output_type": "stream",
          "name": "stderr",
          "text": [
            "WARNING:urllib3.connectionpool:Connection pool is full, discarding connection: www1.nseindia.com. Connection pool size: 10\n",
            "WARNING:urllib3.connectionpool:Connection pool is full, discarding connection: www1.nseindia.com. Connection pool size: 10\n",
            "WARNING:urllib3.connectionpool:Connection pool is full, discarding connection: www1.nseindia.com. Connection pool size: 10\n",
            "WARNING:urllib3.connectionpool:Connection pool is full, discarding connection: www1.nseindia.com. Connection pool size: 10\n",
            "WARNING:urllib3.connectionpool:Connection pool is full, discarding connection: www1.nseindia.com. Connection pool size: 10\n",
            "WARNING:urllib3.connectionpool:Connection pool is full, discarding connection: www1.nseindia.com. Connection pool size: 10\n",
            "WARNING:urllib3.connectionpool:Connection pool is full, discarding connection: www1.nseindia.com. Connection pool size: 10\n"
          ]
        },
        {
          "output_type": "stream",
          "name": "stdout",
          "text": [
            "No valid data for KPITTECH.NS: Insufficient data points\n",
            "No valid data for GREENPOWER.NS: Insufficient data points\n"
          ]
        },
        {
          "output_type": "stream",
          "name": "stderr",
          "text": [
            "WARNING:urllib3.connectionpool:Connection pool is full, discarding connection: www1.nseindia.com. Connection pool size: 10\n",
            "WARNING:urllib3.connectionpool:Connection pool is full, discarding connection: www1.nseindia.com. Connection pool size: 10\n",
            "WARNING:urllib3.connectionpool:Connection pool is full, discarding connection: www1.nseindia.com. Connection pool size: 10\n"
          ]
        },
        {
          "output_type": "stream",
          "name": "stdout",
          "text": [
            "No valid data for BIRLACORPN.NS: Insufficient data points\n",
            "No data fetched for any tickers. Exiting.\n",
            "No valid data to proceed with simulation.\n"
          ]
        }
      ]
    },
    {
      "cell_type": "code",
      "source": [],
      "metadata": {
        "id": "dFLbMIe1rVkf"
      },
      "execution_count": null,
      "outputs": []
    }
  ]
}